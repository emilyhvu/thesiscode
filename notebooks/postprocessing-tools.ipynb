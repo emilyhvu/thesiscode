{
 "cells": [
  {
   "cell_type": "code",
   "execution_count": 1,
   "metadata": {
    "collapsed": true
   },
   "outputs": [],
   "source": [
    "%matplotlib notebook  \n",
    "\n",
    "import numpy as np\n",
    "from matplotlib import pyplot as plt\n",
    "import re"
   ]
  },
  {
   "cell_type": "markdown",
   "metadata": {},
   "source": [
    "## Using single_run"
   ]
  },
  {
   "cell_type": "markdown",
   "metadata": {},
   "source": [
    "`single_run.py` is a convenience script to pull in the analysis from a single analog, cadis, or cadis-$\\Omega$ simulation. There are several inputs arguments that we can use with this convenience function. "
   ]
  },
  {
   "cell_type": "markdown",
   "metadata": {},
   "source": [
    "First, the `single_run` object is initialized by providing a path to a simulation directory. This should be the **top** directory of a run. The run object, once `do_single_analysis` is called, will be populated with a number of dicts that contain information (like paths and locations of files) that can be used to generate figures or analysis information "
   ]
  },
  {
   "cell_type": "code",
   "execution_count": 1,
   "metadata": {
    "collapsed": false
   },
   "outputs": [
    {
     "name": "stderr",
     "output_type": "stream",
     "text": [
      "INFO -- analysis : initialized cadisangle analysis single_run \n",
      "INFO -- analysis.single_run : acquiring files and directories in directory /Users/madicken/Documents/pn2_newout/\n",
      "INFO -- analysis.utils.get_paths : successfully passed logger to get_paths\n",
      "INFO -- analysis.utils.get_paths : Base directory found at /Users/madicken/Documents/pn2_newout\n",
      "INFO -- analysis.utils.get_paths : Found denovo forward solution directory at /Users/madicken/Documents/pn2_newout/fwd_solution\n",
      "INFO -- analysis.utils.get_paths : Found denovo omega solution directory at /Users/madicken/Documents/pn2_newout/omega_solution\n",
      "INFO -- analysis.utils.get_paths : Analysis directory and data found at /Users/madicken/Documents/pn2_newout/analysis not creating new directory\n",
      "INFO -- analysis.utils.get_paths : Found MCNP solution directory at /Users/madicken/Documents/pn2_newout/mcnp\n",
      "INFO -- analysis.utils.get_paths : Found output solution directory at /Users/madicken/Documents/pn2_newout/output \n",
      "INFO -- analysis.utils.get_paths : Timing file found at /Users/madicken/Documents/pn2_newout/timing.json \n",
      "INFO -- analysis.utils.methoddetector :  Detected method type is : cadisangle \n",
      "INFO -- analysis.single_run : User-defined method type and detected type match as: cadisangle\n",
      "INFO -- analysis.single_run : verifying input flags\n",
      "INFO -- analysis.utils.input-flags : boxes_for_energy will not be computed. Flag set to False by user.\n",
      "INFO -- analysis.utils.input-flags : violins_for_metric will not be computed. Flag set to False by user.\n",
      "INFO -- analysis.utils.input-flags : strip_for_metric will not be computed. Flag set to False by user.\n",
      "INFO -- analysis.utils.input-flags : fom_convergence will not be computed. Flag set to False by user.\n",
      "INFO -- analysis.utils.input-flags : plot_anisotropy_correlations will not be computed. Flag set to False by user.\n",
      "INFO -- analysis.utils.input-flags : violins_for_energy will not be computed. Flag set to False by user.\n",
      "INFO -- analysis.utils.input-flags : plot_anisotropy_corrs_median will not be computed. Flag set to False by user.\n",
      "INFO -- analysis.utils.input-flags : tally_result will not be computed. Flag set to False by user.\n",
      "INFO -- analysis.utils.input-flags : select_anisotropies is equal to full\n",
      "INFO -- analysis.utils.input-flags : save_fom_data will not be computed. Flag set to False by user.\n",
      "INFO -- analysis.utils.input-flags : save_tally_data will not be computed. Flag set to False by user.\n",
      "INFO -- analysis.utils.input-flags : strip_for_energy will not be computed. Flag set to False by user.\n",
      "INFO -- analysis.utils.input-flags : analysis_data_directory is equal to /Users/madicken/Documents/pn2_newout/analysis\n",
      "INFO -- analysis.utils.input-flags : base_directory is equal to /Users/madicken/Documents/pn2_newout\n",
      "INFO -- analysis.utils.input-flags : plot_anisotropy_corrs_mean will not be computed. Flag set to False by user.\n",
      "INFO -- analysis.utils.input-flags : relative_error_by_bin will not be computed. Flag set to False by user.\n",
      "INFO -- analysis.utils.input-flags : boxes_for_metric will not be computed. Flag set to False by user.\n",
      "INFO -- analysis.utils.input-flags : save_all_data will not be computed. Flag set to False by user.\n",
      "INFO -- analysis.fomanalysis.calculatefoms : calculating foms for mcnp run\n",
      "INFO -- analysis.fomanalysis.calculatefoms : calculating modified foms which incorporate\n",
      "                   deterministic runtime\n",
      "INFO -- analysis.fomanalysis.timingrame : Constructing\n",
      "                    timing table with MCNP data from /Users/madicken/Documents/pn2_newout/mcnp/out and timing data from\n",
      "                    /Users/madicken/Documents/pn2_newout/timing.json. Parallelized times will be multiplied by 4 cores.\n",
      "INFO -- analysis.fomanalysis.calculatefoms : calculating foms for mcnp run\n",
      "INFO -- analysis.fomanalysis.calculatefoms : calculating modified foms which incorporate\n",
      "                   deterministic runtime\n"
     ]
    }
   ],
   "source": [
    "from single_run import Single_Run\n",
    "run = Single_Run('/Users/madicken/Documents/pn2_newout/', method_type='cadisangle')\n",
    "run.do_single_analysis()"
   ]
  },
  {
   "cell_type": "markdown",
   "metadata": {},
   "source": [
    "For example, you can use tab autocompletion to see the different objects associated with `run`. The figure of merits calculated are:"
   ]
  },
  {
   "cell_type": "code",
   "execution_count": 2,
   "metadata": {
    "collapsed": false
   },
   "outputs": [
    {
     "data": {
      "text/plain": [
       "{'fom_max': {'FOM': 0.048141215079468926,\n",
       "  'relative_error': 0.2485,\n",
       "  'time': 336.38},\n",
       " 'fom_max_det': {'FOM': 0.047125037886297398,\n",
       "  'relative_error': 0.2485,\n",
       "  'time': 343.6335047094027},\n",
       " 'fom_mc': {'FOM': 0.10347380718549733,\n",
       "  'relative_error': 0.16950000000000001,\n",
       "  'time': 336.38},\n",
       " 'fom_mc_det': {'FOM': 0.10128965535677928,\n",
       "  'relative_error': 0.1695,\n",
       "  'time': 343.6335047094027},\n",
       " 'fom_min': {'FOM': 146.8063382168462,\n",
       "  'relative_error': 0.0044999999999999997,\n",
       "  'time': 336.38},\n",
       " 'fom_min_det': {'FOM': 143.70751213896833,\n",
       "  'relative_error': 0.0044999999999999997,\n",
       "  'time': 343.6335047094027},\n",
       " 'particle_count': 10000000.0,\n",
       " 'times_used': {'det_time': 7.2535047094027201,\n",
       "  'mc_time': 336.38,\n",
       "  'total_time': 343.6335047094027,\n",
       "  'units': 'minutes'}}"
      ]
     },
     "execution_count": 2,
     "metadata": {},
     "output_type": "execute_result"
    }
   ],
   "source": [
    "run.foms"
   ]
  },
  {
   "cell_type": "markdown",
   "metadata": {},
   "source": [
    "The file locations are in `run.filenames`. The None type objects are files that were not found by the reader. You can see that the adjoint and forward flux files were not found in this particular example"
   ]
  },
  {
   "cell_type": "code",
   "execution_count": 3,
   "metadata": {
    "collapsed": false
   },
   "outputs": [
    {
     "data": {
      "text/plain": [
       "{'adj_flux_file': None,\n",
       " 'anisotropy_file': '/Users/madicken/Documents/pn2_newout/omega_solution/problem_anisotropies.h5',\n",
       " 'fwd_flux_file': None,\n",
       " 'mcnp_output_file': '/Users/madicken/Documents/pn2_newout/mcnp/out',\n",
       " 'meshtal_file': '/Users/madicken/Documents/pn2_newout/mcnp/meshtal',\n",
       " 'omega_flux_file': '/Users/madicken/Documents/pn2_newout/omega_solution/denovo_omega_output.silo',\n",
       " 'omni_out_file': '/Users/madicken/Documents/pn2_newout/adj_solution/omnibus.pp.json',\n",
       " 'output_file': '/Users/madicken/Documents/pn2_newout/output/fields.silo',\n",
       " 'timing_file': '/Users/madicken/Documents/pn2_newout/timing.json',\n",
       " 'wwinp_file': '/Users/madicken/Documents/pn2_newout/mcnp/wwinp'}"
      ]
     },
     "execution_count": 3,
     "metadata": {},
     "output_type": "execute_result"
    }
   ],
   "source": [
    "run.filenames"
   ]
  },
  {
   "cell_type": "markdown",
   "metadata": {},
   "source": [
    "In the next section, **compare_runs**, you will see how these can be linked together to compare the analyses from an analog, a cadis, and a cadis-$\\Omega$ simulation. For now, let's see how another script, `analysis.py`, can be used to generate a prettier FOM analysis rather than printing the dictionary. "
   ]
  },
  {
   "cell_type": "code",
   "execution_count": 4,
   "metadata": {
    "collapsed": false
   },
   "outputs": [
    {
     "name": "stderr",
     "output_type": "stream",
     "text": [
      "INFO -- analysis.fomanalysis.calculatefoms : calculating foms for mcnp run\n",
      "INFO -- analysis.fomanalysis.calculatefoms : calculating modified foms which incorporate\n",
      "                   deterministic runtime\n",
      "INFO -- analysis.fomanalysis.timingrame : Constructing\n",
      "                    timing table with MCNP data from /Users/madicken/Documents/pn2_newout/mcnp/out and timing data from\n",
      "                    /Users/madicken/Documents/pn2_newout/timing.json. Parallelized times will be multiplied by 4 cores.\n"
     ]
    }
   ],
   "source": [
    "from analysis import FOMAnalysis\n",
    "A = FOMAnalysis(run.filenames['mcnp_output_file'], 44, run.filenames['timing_file'], run.filenames['omni_out_file'])"
   ]
  },
  {
   "cell_type": "markdown",
   "metadata": {},
   "source": [
    "A, the object created running `FOMAnalysis` on the mcnp output file, the timing results from omnibus, and the omnibus output file, have several pandas dataframes that have been populated with the necessary information for the analysis that we care about. For example, detailed timing information on each of the runtimes from the hybrid run are contained in the `A.timing_frame` object. Note in the logger that parallelized times are multiplied by the core count. Because this run was performed on 4 cores, all of the denovo times are multiplied by the core count to get the total runtime of denovo. A justification of why this was chosen is in my dissertation "
   ]
  },
  {
   "cell_type": "code",
   "execution_count": 5,
   "metadata": {
    "collapsed": false
   },
   "outputs": [
    {
     "data": {
      "text/html": [
       "<div>\n",
       "<table border=\"1\" class=\"dataframe\">\n",
       "  <thead>\n",
       "    <tr style=\"text-align: right;\">\n",
       "      <th></th>\n",
       "      <th></th>\n",
       "      <th>time (minutes)</th>\n",
       "    </tr>\n",
       "  </thead>\n",
       "  <tbody>\n",
       "    <tr>\n",
       "      <th rowspan=\"5\" valign=\"top\">deterministic time</th>\n",
       "      <th>advantg_time</th>\n",
       "      <td>0.181778</td>\n",
       "    </tr>\n",
       "    <tr>\n",
       "      <th>denovo_time</th>\n",
       "      <td>6.410819</td>\n",
       "    </tr>\n",
       "    <tr>\n",
       "      <th>dispose_time</th>\n",
       "      <td>0.156977</td>\n",
       "    </tr>\n",
       "    <tr>\n",
       "      <th>omega_time</th>\n",
       "      <td>0.660908</td>\n",
       "    </tr>\n",
       "    <tr>\n",
       "      <th>total</th>\n",
       "      <td>7.253505</td>\n",
       "    </tr>\n",
       "    <tr>\n",
       "      <th>MCNP time</th>\n",
       "      <th>total</th>\n",
       "      <td>336.380000</td>\n",
       "    </tr>\n",
       "    <tr>\n",
       "      <th>wall time</th>\n",
       "      <th>total</th>\n",
       "      <td>343.633505</td>\n",
       "    </tr>\n",
       "  </tbody>\n",
       "</table>\n",
       "</div>"
      ],
      "text/plain": [
       "                                 time (minutes)\n",
       "deterministic time advantg_time        0.181778\n",
       "                   denovo_time         6.410819\n",
       "                   dispose_time        0.156977\n",
       "                   omega_time          0.660908\n",
       "                   total               7.253505\n",
       "MCNP time          total             336.380000\n",
       "wall time          total             343.633505"
      ]
     },
     "execution_count": 5,
     "metadata": {},
     "output_type": "execute_result"
    }
   ],
   "source": [
    "A.timing_frame"
   ]
  },
  {
   "cell_type": "markdown",
   "metadata": {},
   "source": [
    "In addition to the timing information, `fom_frame` contains the Monte Carlo FOMs and the adjusted FOMs that incorporate the denovo and advantg runtimes. "
   ]
  },
  {
   "cell_type": "code",
   "execution_count": 6,
   "metadata": {
    "collapsed": false
   },
   "outputs": [
    {
     "data": {
      "text/html": [
       "<div>\n",
       "<table border=\"1\" class=\"dataframe\">\n",
       "  <thead>\n",
       "    <tr style=\"text-align: right;\">\n",
       "      <th></th>\n",
       "      <th>MC</th>\n",
       "      <th>MC_adjusted</th>\n",
       "    </tr>\n",
       "  </thead>\n",
       "  <tbody>\n",
       "    <tr>\n",
       "      <th>tally avg</th>\n",
       "      <td>0.103474</td>\n",
       "      <td>0.101290</td>\n",
       "    </tr>\n",
       "    <tr>\n",
       "      <th>max RE</th>\n",
       "      <td>0.048141</td>\n",
       "      <td>0.047125</td>\n",
       "    </tr>\n",
       "    <tr>\n",
       "      <th>min RE</th>\n",
       "      <td>146.806338</td>\n",
       "      <td>143.707512</td>\n",
       "    </tr>\n",
       "    <tr>\n",
       "      <th>time (mins)</th>\n",
       "      <td>336.380000</td>\n",
       "      <td>343.633505</td>\n",
       "    </tr>\n",
       "  </tbody>\n",
       "</table>\n",
       "</div>"
      ],
      "text/plain": [
       "                     MC  MC_adjusted\n",
       "tally avg      0.103474     0.101290\n",
       "max RE         0.048141     0.047125\n",
       "min RE       146.806338   143.707512\n",
       "time (mins)  336.380000   343.633505"
      ]
     },
     "execution_count": 6,
     "metadata": {},
     "output_type": "execute_result"
    }
   ],
   "source": [
    "A.fom_frame"
   ]
  },
  {
   "cell_type": "markdown",
   "metadata": {},
   "source": [
    "Let's see what else is associated with the `single_run` analysis script. We initially ran `do_single_analysis` with no arguments. This essentially just populates the different dicts that we just investigated. If we want analysis figures, then we need to add arguments to the `do_single_analysis` function. Using the help function, let's see what arguments are in the function:"
   ]
  },
  {
   "cell_type": "code",
   "execution_count": 13,
   "metadata": {
    "collapsed": false
   },
   "outputs": [
    {
     "name": "stdout",
     "output_type": "stream",
     "text": [
      "Help on class Single_Run in module single_run:\n",
      "\n",
      "class Single_Run(__builtin__.object)\n",
      " |  Methods defined here:\n",
      " |  \n",
      " |  __init__(self, base_directory_path, method_type='', logfile_name='analysis.log')\n",
      " |  \n",
      " |  do_single_analysis(self, analysis_directory_name='analysis', group_numbers=[], metrics=[], tally_number='44', plot_boxes_for_metric=False, plot_boxes_for_energy=False, plot_violins_for_metric=False, plot_strip_for_metric=False, plot_strip_for_energy=False, plot_violins_for_energy=False, plot_FoM_convergence=False, plot_RE_by_bin=False, plot_tally_results=False, save_FoM_data=False, save_tally_data=False, plot_anisotropy_with_tallydata=False, plot_anisotropies_median=False, plot_anisotropies_mean=False, save_data_json=False, select_anisotropies='full')\n",
      " |      This is the driver script to generate analysis data for a single run.\n",
      " |      The user can choose whether to overwrite previous data, which metrics to\n",
      " |      plot, and where to save that data. By default it will be saved in an\n",
      " |      /analysis/ folder inside the run directory for the hybrid run.\n",
      " |  \n",
      " |  ----------------------------------------------------------------------\n",
      " |  Data descriptors defined here:\n",
      " |  \n",
      " |  __dict__\n",
      " |      dictionary for instance variables (if defined)\n",
      " |  \n",
      " |  __weakref__\n",
      " |      list of weak references to the object (if defined)\n",
      "\n"
     ]
    }
   ],
   "source": [
    "help(Single_Run)"
   ]
  },
  {
   "cell_type": "markdown",
   "metadata": {},
   "source": [
    "The **boxes**, **violins**, and **strip** plots are different categorical figures that are used to plot problem anisotropies. The MCNP results are done with **plot_RE_by_bin** and **plot_tally_results**. the **for_energy** and **for_metric** options for the categorical plots select out data for a particular energy group or for a particular aniotropy metric. These images automatically save to an *analysis* directory that is created within the run folder. To see what they look like, I'll pull the plotting functions out and manually plot them here. "
   ]
  },
  {
   "cell_type": "code",
   "execution_count": 14,
   "metadata": {
    "collapsed": true
   },
   "outputs": [],
   "source": [
    "from analysis import MCNPOutput\n",
    "from plotting_utils import energy_histogram"
   ]
  },
  {
   "cell_type": "code",
   "execution_count": 16,
   "metadata": {
    "collapsed": false
   },
   "outputs": [],
   "source": [
    "M = MCNPOutput(run.filenames['mcnp_output_file'])\n",
    "mcnpdata=M.get_tally_data()"
   ]
  },
  {
   "cell_type": "code",
   "execution_count": 18,
   "metadata": {
    "collapsed": false
   },
   "outputs": [],
   "source": [
    "err = mcnpdata['tally_data']['relative_error']\n",
    "result = mcnpdata['tally_data']['tallied_result']\n",
    "groups = mcnpdata['tally_data']['energy_groups']\n",
    "savedir1 = run.directories['analysis_directory']+'/mcnp_RE.png'\n",
    "savedir2 = run.directories['analysis_directory']+'/mcnp_result.png'"
   ]
  },
  {
   "cell_type": "code",
   "execution_count": 26,
   "metadata": {
    "collapsed": true
   },
   "outputs": [],
   "source": [
    "%matplotlib inline"
   ]
  },
  {
   "cell_type": "code",
   "execution_count": 27,
   "metadata": {
    "collapsed": false
   },
   "outputs": [
    {
     "name": "stderr",
     "output_type": "stream",
     "text": [
      "WARNING -- analysis.plotting_utils.energy_hist : energy groups not binned. using 1e-10 as lowest bound\n"
     ]
    },
    {
     "data": {
      "text/plain": [
       "<module 'matplotlib.pyplot' from '/opt/local/Library/Frameworks/Python.framework/Versions/2.7/lib/python2.7/site-packages/matplotlib/pyplot.pyc'>"
      ]
     },
     "execution_count": 27,
     "metadata": {},
     "output_type": "execute_result"
    },
    {
     "data": {
      "image/png": "[encoded data removed]",
      "text/plain": [
       "<matplotlib.figure.Figure at 0x10cf3bc90>"
      ]
     },
     "metadata": {},
     "output_type": "display_data"
    }
   ],
   "source": [
    "energy_histogram(groups,err, plot_title='Relative Errors by Energy Group, maze2', y_title='Relative Error', savepath=None)"
   ]
  },
  {
   "cell_type": "code",
   "execution_count": 29,
   "metadata": {
    "collapsed": false
   },
   "outputs": [
    {
     "name": "stderr",
     "output_type": "stream",
     "text": [
      "WARNING -- analysis.plotting_utils.energy_hist : energy groups not binned. using 1e-10 as lowest bound\n"
     ]
    },
    {
     "data": {
      "text/plain": [
       "<module 'matplotlib.pyplot' from '/opt/local/Library/Frameworks/Python.framework/Versions/2.7/lib/python2.7/site-packages/matplotlib/pyplot.pyc'>"
      ]
     },
     "execution_count": 29,
     "metadata": {},
     "output_type": "execute_result"
    },
    {
     "data": {
      "image/png": "[encoded data removed]",
      "text/plain": [
       "<matplotlib.figure.Figure at 0x10d0c67d0>"
      ]
     },
     "metadata": {},
     "output_type": "display_data"
    }
   ],
   "source": [
    "energy_histogram(groups,result, plot_title='Tally Result by Energy Group, maze2', y_title='Flux (n/cm2)', savepath=None)"
   ]
  },
  {
   "cell_type": "markdown",
   "metadata": {},
   "source": [
    "Both of these figures are plotted automatically if you instead choose:"
   ]
  },
  {
   "cell_type": "code",
   "execution_count": 30,
   "metadata": {
    "collapsed": false
   },
   "outputs": [
    {
     "name": "stderr",
     "output_type": "stream",
     "text": [
      "INFO -- analysis.single_run : acquiring files and directories in directory /Users/madicken/Documents/pn2_newout/\n",
      "INFO -- analysis.utils.get_paths : successfully passed logger to get_paths\n",
      "INFO -- analysis.utils.get_paths : Base directory found at /Users/madicken/Documents/pn2_newout\n",
      "INFO -- analysis.utils.get_paths : Found denovo forward solution directory at /Users/madicken/Documents/pn2_newout/fwd_solution\n",
      "INFO -- analysis.utils.get_paths : Found denovo omega solution directory at /Users/madicken/Documents/pn2_newout/omega_solution\n",
      "INFO -- analysis.utils.get_paths : Analysis directory and data found at /Users/madicken/Documents/pn2_newout/analysis not creating new directory\n",
      "INFO -- analysis.utils.get_paths : Found MCNP solution directory at /Users/madicken/Documents/pn2_newout/mcnp\n",
      "INFO -- analysis.utils.get_paths : Found output solution directory at /Users/madicken/Documents/pn2_newout/output \n",
      "INFO -- analysis.utils.get_paths : Timing file found at /Users/madicken/Documents/pn2_newout/timing.json \n",
      "INFO -- analysis.utils.methoddetector :  Detected method type is : cadisangle \n",
      "INFO -- analysis.single_run : User-defined method type and detected type match as: cadisangle\n",
      "INFO -- analysis.single_run : verifying input flags\n",
      "INFO -- analysis.utils.input-flags : boxes_for_energy will not be computed. Flag set to False by user.\n",
      "INFO -- analysis.utils.input-flags : violins_for_metric will not be computed. Flag set to False by user.\n",
      "INFO -- analysis.utils.input-flags : strip_for_metric will not be computed. Flag set to False by user.\n",
      "INFO -- analysis.utils.input-flags : fom_convergence will not be computed. Flag set to False by user.\n",
      "INFO -- analysis.utils.input-flags : plot_anisotropy_correlations will not be computed. Flag set to False by user.\n",
      "INFO -- analysis.utils.input-flags : violins_for_energy will not be computed. Flag set to False by user.\n",
      "INFO -- analysis.utils.input-flags : plot_anisotropy_corrs_median will not be computed. Flag set to False by user.\n",
      "INFO -- analysis.utils.input-flags : all dependencies required to compute tally_result found\n",
      "INFO -- analysis.utils.input-flags : select_anisotropies is equal to full\n",
      "INFO -- analysis.utils.input-flags : save_fom_data will not be computed. Flag set to False by user.\n",
      "INFO -- analysis.utils.input-flags : save_tally_data will not be computed. Flag set to False by user.\n",
      "INFO -- analysis.utils.input-flags : strip_for_energy will not be computed. Flag set to False by user.\n",
      "INFO -- analysis.utils.input-flags : analysis_data_directory is equal to /Users/madicken/Documents/pn2_newout/analysis\n",
      "INFO -- analysis.utils.input-flags : base_directory is equal to /Users/madicken/Documents/pn2_newout\n",
      "INFO -- analysis.utils.input-flags : plot_anisotropy_corrs_mean will not be computed. Flag set to False by user.\n",
      "INFO -- analysis.utils.input-flags : all dependencies required to compute relative_error_by_bin found\n",
      "INFO -- analysis.utils.input-flags : boxes_for_metric will not be computed. Flag set to False by user.\n",
      "INFO -- analysis.utils.input-flags : save_all_data will not be computed. Flag set to False by user.\n",
      "INFO -- analysis.fomanalysis.calculatefoms : calculating foms for mcnp run\n",
      "INFO -- analysis.fomanalysis.calculatefoms : calculating modified foms which incorporate\n",
      "                   deterministic runtime\n",
      "INFO -- analysis.fomanalysis.timingrame : Constructing\n",
      "                    timing table with MCNP data from /Users/madicken/Documents/pn2_newout/mcnp/out and timing data from\n",
      "                    /Users/madicken/Documents/pn2_newout/timing.json. Parallelized times will be multiplied by 4 cores.\n",
      "INFO -- analysis.fomanalysis.calculatefoms : calculating foms for mcnp run\n",
      "INFO -- analysis.fomanalysis.calculatefoms : calculating modified foms which incorporate\n",
      "                   deterministic runtime\n",
      "INFO -- analysis.single_run : plotting tally 44 relative error at /Users/madicken/Documents/pn2_newout/analysis/tally_44_error.pdf\n",
      "WARNING -- analysis.plotting_utils.energy_hist : energy groups not binned. using 1e-10 as lowest bound\n",
      "INFO -- analysis.single_run : plotting tally 44 result at /Users/madicken/Documents/pn2_newout/analysis/tally_44_result.pdf\n",
      "WARNING -- analysis.plotting_utils.energy_hist : energy groups not binned. using 1e-10 as lowest bound\n"
     ]
    }
   ],
   "source": [
    "run.do_single_analysis(plot_RE_by_bin=True, plot_tally_results=True)"
   ]
  },
  {
   "cell_type": "markdown",
   "metadata": {},
   "source": [
    "The logger shows where these are saved on the machine. We can open them and compare: "
   ]
  },
  {
   "cell_type": "code",
   "execution_count": 35,
   "metadata": {
    "collapsed": false
   },
   "outputs": [
    {
     "data": {
      "text/html": [
       "\n",
       "        <iframe\n",
       "            width=\"600\"\n",
       "            height=\"600\"\n",
       "            src=\"/Users/madicken/Documents/pn2_newout/analysis/tally_44_error.pdf\"\n",
       "            frameborder=\"0\"\n",
       "            allowfullscreen\n",
       "        ></iframe>\n",
       "        "
      ],
      "text/plain": [
       "<IPython.lib.display.IFrame at 0x10cf56590>"
      ]
     },
     "execution_count": 35,
     "metadata": {},
     "output_type": "execute_result"
    }
   ],
   "source": [
    "from IPython.display import IFrame\n",
    "# IFrame(\"./samples/simple3.pdf\", width=600, height=300)\n",
    "IFrame('/Users/madicken/Documents/pn2_newout/analysis/tally_44_error.pdf', width=600, height=600)"
   ]
  },
  {
   "cell_type": "code",
   "execution_count": null,
   "metadata": {
    "collapsed": true
   },
   "outputs": [],
   "source": []
  },
  {
   "cell_type": "code",
   "execution_count": null,
   "metadata": {
    "collapsed": true
   },
   "outputs": [],
   "source": []
  },
  {
   "cell_type": "code",
   "execution_count": null,
   "metadata": {
    "collapsed": true
   },
   "outputs": [],
   "source": []
  },
  {
   "cell_type": "markdown",
   "metadata": {},
   "source": [
    "## Using compare_runs"
   ]
  },
  {
   "cell_type": "markdown",
   "metadata": {},
   "source": [
    "## Using mcnpoutput tools"
   ]
  },
  {
   "cell_type": "code",
   "execution_count": null,
   "metadata": {
    "collapsed": true
   },
   "outputs": [],
   "source": [
    "from mcnpoutput import TrackLengthTally"
   ]
  },
  {
   "cell_type": "markdown",
   "metadata": {},
   "source": [
    "First let's initialize the TrackLengthTally method object with the relevant information. I'll use a sample dataset on my local machine. "
   ]
  },
  {
   "cell_type": "code",
   "execution_count": 2,
   "metadata": {
    "collapsed": true
   },
   "outputs": [],
   "source": [
    "therapy_output = TrackLengthTally(\"/Users/madicken/Documents/wwdebug/out\", 44)"
   ]
  },
  {
   "cell_type": "markdown",
   "metadata": {},
   "source": [
    "Next I'll use each function associated with the method. Each function populates a dictionary with relevant information for the tally specified in the tally init function. "
   ]
  },
  {
   "cell_type": "code",
   "execution_count": 3,
   "metadata": {
    "collapsed": true
   },
   "outputs": [],
   "source": [
    "therapy_time = therapy_output.get_timing_data()\n",
    "therapy_fom = therapy_output.get_fom_data()\n",
    "therapy_tally = therapy_output.get_tally_result()"
   ]
  },
  {
   "cell_type": "markdown",
   "metadata": {},
   "source": [
    "Now let's make sure each of the dictionaries were populated with what we expect. Notice that both therapy_tally and therapy_fom are keyed with numpy arrays, while therapy_time is keyed with subdictionaries. "
   ]
  },
  {
   "cell_type": "code",
   "execution_count": 6,
   "metadata": {
    "collapsed": false
   },
   "outputs": [
    {
     "name": "stdout",
     "output_type": "stream",
     "text": [
      "(['total_time', 'mcrun_time'], [{'units': 'minutes', 'time': 6.84}, {'units': 'minutes', 'time': 0.95}])\n",
      "['slope', 'vov', 'error', 'fom', 'nps', 'mean']\n",
      "['tallied_result', 'tally_total_relative_error', 'relative_error', 'energy_groups', 'tallied_total']\n"
     ]
    }
   ],
   "source": [
    "print(therapy_time.keys(), therapy_time.values())\n",
    "print(therapy_fom.keys())\n",
    "print(therapy_tally.keys())"
   ]
  },
  {
   "cell_type": "markdown",
   "metadata": {},
   "source": [
    "Last, let's make sure that the tallied result and the relative error were populated with the data that we expect. These should be numpy arrays. "
   ]
  },
  {
   "cell_type": "code",
   "execution_count": 17,
   "metadata": {
    "collapsed": false
   },
   "outputs": [
    {
     "name": "stdout",
     "output_type": "stream",
     "text": [
      "[  1.17274000e-10   5.82163000e-10   6.33716000e-10   1.29494000e-09\n",
      "   6.70163000e-10   1.37736000e-10   9.64432000e-11   1.88552000e-10\n",
      "   2.37415000e-10   3.04835000e-11   4.23573000e-11   6.53810000e-11\n",
      "   1.56023000e-10   5.44237000e-10   2.48705000e-10   2.14784000e-10\n",
      "   3.89789000e-10   5.93136000e-10   2.60373000e-10   1.00633000e-09\n",
      "   1.10004000e-09   1.11410000e-09   5.24200000e-10   3.47218000e-10\n",
      "   5.39201000e-10   4.16620000e-10   2.76038000e-10]\n",
      "[ 0.2239  0.1217  0.1044  0.1026  0.1632  0.2398  0.3294  0.3473  0.6586\n",
      "  0.3183  0.3214  0.2156  0.2522  0.482   0.2253  0.2159  0.1589  0.3903\n",
      "  0.1787  0.208   0.2367  0.1693  0.1729  0.2963  0.1871  0.3436  0.3894]\n"
     ]
    }
   ],
   "source": [
    "print(therapy_tally[\"tallied_result\"]) \n",
    "      \n",
    "print(therapy_tally[\"relative_error\"])"
   ]
  },
  {
   "cell_type": "code",
   "execution_count": 18,
   "metadata": {
    "collapsed": false
   },
   "outputs": [
    {
     "name": "stdout",
     "output_type": "stream",
     "text": [
      "1.1827418e-08\n",
      "1.18274e-08\n"
     ]
    }
   ],
   "source": [
    "print(np.sum(therapy_tally['tallied_result']))\n",
    "print(therapy_tally['tallied_total'])"
   ]
  },
  {
   "cell_type": "code",
   "execution_count": null,
   "metadata": {
    "collapsed": true
   },
   "outputs": [],
   "source": []
  }
 ],
 "metadata": {
  "kernelspec": {
   "display_name": "Python 2",
   "language": "python",
   "name": "python2"
  },
  "language_info": {
   "codemirror_mode": {
    "name": "ipython",
    "version": 2
   },
   "file_extension": ".py",
   "mimetype": "text/x-python",
   "name": "python",
   "nbconvert_exporter": "python",
   "pygments_lexer": "ipython2",
   "version": "2.7.13"
  }
 },
 "nbformat": 4,
 "nbformat_minor": 0
}
