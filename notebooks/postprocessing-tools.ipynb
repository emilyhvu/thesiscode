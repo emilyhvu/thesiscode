{
 "cells": [
  {
   "cell_type": "code",
   "execution_count": 1,
   "metadata": {
    "collapsed": true
   },
   "outputs": [],
   "source": [
    "%matplotlib notebook  \n",
    "\n",
    "import numpy as np\n",
    "from matplotlib import pyplot as plt\n",
    "import re\n",
    "\n",
    "\n",
    "from mcnpoutput import TrackLengthTally"
   ]
  },
  {
   "cell_type": "markdown",
   "metadata": {},
   "source": [
    "First let's initialize the TrackLengthTally method object with the relevant information. I'll use a sample dataset on my local machine. "
   ]
  },
  {
   "cell_type": "code",
   "execution_count": 2,
   "metadata": {
    "collapsed": true
   },
   "outputs": [],
   "source": [
    "therapy_output = TrackLengthTally(\"/Users/madicken/Documents/wwdebug/out\", 44)"
   ]
  },
  {
   "cell_type": "markdown",
   "metadata": {},
   "source": [
    "Next I'll use each function associated with the method. Each function populates a dictionary with relevant information for the tally specified in the tally init function. "
   ]
  },
  {
   "cell_type": "code",
   "execution_count": 3,
   "metadata": {
    "collapsed": true
   },
   "outputs": [],
   "source": [
    "therapy_time = therapy_output.get_timing_data()\n",
    "therapy_fom = therapy_output.get_fom_data()\n",
    "therapy_tally = therapy_output.get_tally_result()"
   ]
  },
  {
   "cell_type": "markdown",
   "metadata": {},
   "source": [
    "Now let's make sure each of the dictionaries were populated with what we expect. Notice that both therapy_tally and therapy_fom are keyed with numpy arrays, while therapy_time is keyed with subdictionaries. "
   ]
  },
  {
   "cell_type": "code",
   "execution_count": 6,
   "metadata": {
    "collapsed": false
   },
   "outputs": [
    {
     "name": "stdout",
     "output_type": "stream",
     "text": [
      "(['total_time', 'mcrun_time'], [{'units': 'minutes', 'time': 6.84}, {'units': 'minutes', 'time': 0.95}])\n",
      "['slope', 'vov', 'error', 'fom', 'nps', 'mean']\n",
      "['tallied_result', 'tally_total_relative_error', 'relative_error', 'energy_groups', 'tallied_total']\n"
     ]
    }
   ],
   "source": [
    "print(therapy_time.keys(), therapy_time.values())\n",
    "print(therapy_fom.keys())\n",
    "print(therapy_tally.keys())"
   ]
  },
  {
   "cell_type": "markdown",
   "metadata": {},
   "source": [
    "Last, let's make sure that the tallied result and the relative error were populated with the data that we expect. These should be numpy arrays. "
   ]
  },
  {
   "cell_type": "code",
   "execution_count": 17,
   "metadata": {
    "collapsed": false
   },
   "outputs": [
    {
     "name": "stdout",
     "output_type": "stream",
     "text": [
      "[  1.17274000e-10   5.82163000e-10   6.33716000e-10   1.29494000e-09\n",
      "   6.70163000e-10   1.37736000e-10   9.64432000e-11   1.88552000e-10\n",
      "   2.37415000e-10   3.04835000e-11   4.23573000e-11   6.53810000e-11\n",
      "   1.56023000e-10   5.44237000e-10   2.48705000e-10   2.14784000e-10\n",
      "   3.89789000e-10   5.93136000e-10   2.60373000e-10   1.00633000e-09\n",
      "   1.10004000e-09   1.11410000e-09   5.24200000e-10   3.47218000e-10\n",
      "   5.39201000e-10   4.16620000e-10   2.76038000e-10]\n",
      "[ 0.2239  0.1217  0.1044  0.1026  0.1632  0.2398  0.3294  0.3473  0.6586\n",
      "  0.3183  0.3214  0.2156  0.2522  0.482   0.2253  0.2159  0.1589  0.3903\n",
      "  0.1787  0.208   0.2367  0.1693  0.1729  0.2963  0.1871  0.3436  0.3894]\n"
     ]
    }
   ],
   "source": [
    "print(therapy_tally[\"tallied_result\"]) \n",
    "      \n",
    "print(therapy_tally[\"relative_error\"])"
   ]
  },
  {
   "cell_type": "code",
   "execution_count": 18,
   "metadata": {
    "collapsed": false
   },
   "outputs": [
    {
     "name": "stdout",
     "output_type": "stream",
     "text": [
      "1.1827418e-08\n",
      "1.18274e-08\n"
     ]
    }
   ],
   "source": [
    "print(np.sum(therapy_tally['tallied_result']))\n",
    "print(therapy_tally['tallied_total'])"
   ]
  },
  {
   "cell_type": "code",
   "execution_count": null,
   "metadata": {
    "collapsed": true
   },
   "outputs": [],
   "source": []
  }
 ],
 "metadata": {
  "kernelspec": {
   "display_name": "Python 2",
   "language": "python",
   "name": "python2"
  },
  "language_info": {
   "codemirror_mode": {
    "name": "ipython",
    "version": 2
   },
   "file_extension": ".py",
   "mimetype": "text/x-python",
   "name": "python",
   "nbconvert_exporter": "python",
   "pygments_lexer": "ipython2",
   "version": "2.7.11"
  }
 },
 "nbformat": 4,
 "nbformat_minor": 0
}
