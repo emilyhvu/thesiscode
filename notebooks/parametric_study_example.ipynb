{
 "cells": [
  {
   "cell_type": "code",
   "execution_count": 1,
   "metadata": {
    "collapsed": false
   },
   "outputs": [
    {
     "name": "stdout",
     "output_type": "stream",
     "text": [
      "###############################################################################\r\n",
      "# File  : thesiscode/studymaker.py\r\n",
      "# Author: madicken\r\n",
      "# Date  : Sun Dec 18 20:11:58 2016\r\n",
      "#\r\n",
      "# The StudyMaker script generates a parametric study based on a specified\r\n",
      "# (python-based) input for advantg, and then substitutes in values for the\r\n",
      "# user-defined study. This study is one-dimensional, meaning that only one\r\n",
      "# variable is changed per script. Should a user require multiple variables to\r\n",
      "# be changed at once, this script will need to be updated.\r\n",
      "###############################################################################\r\n",
      "from __future__ import (division, absolute_import, print_function, )\r\n",
      "#-----------------------------------------------------------------------------#\r\n",
      "import numpy as np\r\n",
      "import os\r\n",
      "import re\r\n",
      "\r\n",
      "###############################################################################\r\n",
      "\r\n",
      "class StudyMaker(object):\r\n",
      "    def __init__(self, filename, xs_libs = [], quad_type = [],\r\n",
      "                 quad_order = [], pn_order = [], x_blocks = [],\r\n",
      "                 y_blocks = [], z_blocks = []):\r\n",
      "        '''\r\n",
      "        The study maker takes user-defined parameters and modifies\r\n",
      "        an advantg input file\r\n",
      "        n number of times to include each parameter for a parametric study.\r\n",
      "        '''\r\n",
      "        self.filename = filename\r\n",
      "        self.path = os.path.dirname(os.path.abspath(filename))\r\n",
      "        self.xs_libs = xs_libs\r\n",
      "        self.quad_type = quad_type\r\n",
      "        self.quad_order = quad_order\r\n",
      "        self.pn_order = pn_order\r\n",
      "        self.x_blocks = x_blocks\r\n",
      "        self.y_blocks = y_blocks\r\n",
      "        self.z_blocks = z_blocks\r\n",
      "        self.opt_dict ={}\r\n",
      "\r\n",
      "        StudyMaker.filldictionary(self)\r\n",
      "\r\n",
      "        StudyMaker.printopts(self)\r\n",
      "\r\n",
      "    def printopts(self):\r\n",
      "        '''\r\n",
      "        Print options specified to the user after initializing the StudyMaker\r\n",
      "        class. Pertinent information like the location of the file will also be\r\n",
      "        generated\r\n",
      "        '''\r\n",
      "        print('')\r\n",
      "        print('Option Summary')\r\n",
      "        print('\\n')\r\n",
      "        print('advantg file :', os.path.abspath(self.filename))\r\n",
      "        print('path :', self.path)\r\n",
      "        print('xs_libs :', self.xs_libs)\r\n",
      "        print('quad_types :', self.quad_type)\r\n",
      "        print('quad_orders :', self.quad_order)\r\n",
      "        print('pn_orders :', self.pn_order)\r\n",
      "\r\n",
      "    def filldictionary(self):\r\n",
      "        '''\r\n",
      "        Fill a dictionary with the user-specified parametric study values\r\n",
      "        and their corresponding advantg input names.\r\n",
      "        '''\r\n",
      "        optiondictionary = {}\r\n",
      "        if self.xs_libs:\r\n",
      "            name = \"anisn_library\"\r\n",
      "            optiondictionary[name] = self.xs_libs\r\n",
      "        if self.quad_type:\r\n",
      "            name = \"denovo_quadrature\"\r\n",
      "            optiondictionary[name] = self.quad_type\r\n",
      "        if self.quad_order:\r\n",
      "            name = \"denovo_quad_order\"\r\n",
      "            optiondictionary[name] = self.quad_order\r\n",
      "        if self.pn_order:\r\n",
      "            name = \"denovo_pn_order\"\r\n",
      "            optiondictionary[name] = self.pn_order\r\n",
      "        if self.x_blocks:\r\n",
      "            name = \"denovo_x_blocks\"\r\n",
      "            optiondictionary[name] = self.x_blocks\r\n",
      "        if self.y_blocks:\r\n",
      "            name = \"denovo_y_blocks\"\r\n",
      "            optiondictionary[name] = self.y_blocks\r\n",
      "        if self.z_blocks:\r\n",
      "            name = \"denovo_z_blocks\"\r\n",
      "            optiondictionary[name] = self.z_blocks\r\n",
      "        self.opt_dict = optiondictionary\r\n",
      "\r\n",
      "    def printdict(self,dictionary):\r\n",
      "        for item in dictionary:\r\n",
      "            print(item + ':', dictionary[item])\r\n",
      "\r\n",
      "    def changeline(self, item, value, lines):\r\n",
      "        '''\r\n",
      "        This function will search through the advantg input for the relevant\r\n",
      "        variable and replace it with the new value for the study.\r\n",
      "        '''\r\n",
      "        patternstring = r\"\\\"\" + re.escape(item) + r\"\\\"\\:*\\s.*\"\r\n",
      "        pattern = re.compile(patternstring)\r\n",
      "        # pattern = re.compile(r\"\\\"%s\\\"\\:*\\s.*\") %item\r\n",
      "        modified_lines = []\r\n",
      "        for line in lines:\r\n",
      "            if isinstance(value, int):\r\n",
      "                line = pattern.sub('\"%s\":          %d,' %(item, value), line )\r\n",
      "            elif isinstance(value, str):\r\n",
      "                line = pattern.sub('\"%s\":         \"%s\",' %(item, value), line )\r\n",
      "            else:\r\n",
      "                print(\"%s has no instance of int or str\" %(item))\r\n",
      "            modified_lines.append(line)\r\n",
      "        return modified_lines\r\n",
      "\r\n",
      "    def make_study(self, newpath='', input_name=''):\r\n",
      "        '''\r\n",
      "        Generates a parametric study based off of the user-specified study\r\n",
      "        variables. Each study will be contained in its own folder, named after\r\n",
      "        the changed variable, and in that folder the relevant MCNP input will\r\n",
      "        be copied and the edited advantg input will also be generated. If the\r\n",
      "        MCNP input filename differs from the naem of the advantg python input,\r\n",
      "        the user can specify it using the input_name variable. If the user\r\n",
      "        wishes for the study base directory to be located somewhere other than\r\n",
      "        the originating folder of the advantg sample input, this can also be\r\n",
      "        specified with newpath.\r\n",
      "        '''\r\n",
      "        from shutil import copy\r\n",
      "        f = open(self.filename, 'r')\r\n",
      "        newpath = self.path\r\n",
      "        lines = f.readlines()\r\n",
      "        num_studies = 0\r\n",
      "        for item in self.opt_dict:\r\n",
      "            for value in self.opt_dict[item]:\r\n",
      "                num_studies += 1\r\n",
      "                filebase = os.path.basename(self.filename)\r\n",
      "                input_name = os.path.splitext(filebase)[0]\r\n",
      "                studypath = newpath+'/%s_%s' %(item,value)\r\n",
      "                if not os.path.exists(studypath):\r\n",
      "                    os.makedirs(studypath)\r\n",
      "                newlines = StudyMaker.changeline(self, item, value, lines)\r\n",
      "                newfile = os.path.join(studypath,filebase)\r\n",
      "                nf = open(newfile, 'w')\r\n",
      "                nf.writelines(newlines)\r\n",
      "                copy('%s/%s' %(newpath,input_name), '%s/%s' %(studypath,input_name))\r\n",
      "        print('%d studies created at %s' %(num_studies,newpath))\r\n",
      "\r\n",
      "    def make_submission_script(self, input_base_file):\r\n",
      "        '''\r\n",
      "        Generates a PBS submission script for the parametric study. For the\r\n",
      "        moment, this is limited to sequential runs in a single file.\r\n",
      "        '''\r\n",
      "        f = open(input_base_file)\r\n",
      "        f_name = os.path.basename(input_base_file)\r\n",
      "        f_name = os.path.splitext(f_name)[0]+'_edit'+os.path.splitext(f_name)[1]\r\n",
      "        newpath = self.path\r\n",
      "        edited_file = newpath+'/'+f_name\r\n",
      "        lines = f.readlines()\r\n",
      "        lines.append('\\n')\r\n",
      "        print('edited runscript file located at: %s' %(edited_file))\r\n",
      "        print('lines added to file:')\r\n",
      "        for item in self.opt_dict:\r\n",
      "            for value in self.opt_dict[item]:\r\n",
      "                filebase = os.path.basename(self.filename)\r\n",
      "                studypath = newpath+'/%s_%s/' %(item,value)\r\n",
      "                studyline1 = 'cd %s \\n' %(studypath)\r\n",
      "                studyline2 = 'advantg %s \\n' %(filebase)\r\n",
      "                print(studyline1, studyline2)\r\n",
      "                lines.append(studyline1)\r\n",
      "                lines.append(studyline2)\r\n",
      "        nf = open(edited_file, 'w')\r\n",
      "        nf.writelines(lines)\r\n",
      "        nf.close()\r\n",
      "\r\n",
      "#-----------------------------------------------------------------------------#\r\n",
      "\r\n",
      "###############################################################################\r\n",
      "# end of thesiscode/studymaker.py\r\n",
      "###############################################################################\r\n"
     ]
    }
   ],
   "source": [
    "cat ../scripts/studymaker.py"
   ]
  },
  {
   "cell_type": "code",
   "execution_count": 2,
   "metadata": {
    "collapsed": true
   },
   "outputs": [],
   "source": [
    "import sys\n",
    "sys.path.append('../')"
   ]
  },
  {
   "cell_type": "code",
   "execution_count": 3,
   "metadata": {
    "collapsed": true
   },
   "outputs": [],
   "source": [
    "from scripts.studymaker import StudyMaker"
   ]
  },
  {
   "cell_type": "code",
   "execution_count": 4,
   "metadata": {
    "collapsed": false
   },
   "outputs": [
    {
     "name": "stdout",
     "output_type": "stream",
     "text": [
      "\n",
      "Option Summary\n",
      "\n",
      "\n",
      "advantg file : /Users/madicken/Documents/test/maze/maze2.py\n",
      "path : /Users/madicken/Documents/test/maze\n",
      "xs_libs : ['27n19g']\n",
      "quad_types : []\n",
      "quad_orders : [2, 3, 4]\n",
      "pn_orders : [1, 2, 3, 5]\n"
     ]
    }
   ],
   "source": [
    "C = StudyMaker('/Users/madicken/Documents/test/maze/maze2.py', xs_libs = [\"27n19g\"], quad_order = [2,3,4], pn_order = [1,2,3,5])"
   ]
  },
  {
   "cell_type": "code",
   "execution_count": 5,
   "metadata": {
    "collapsed": false,
    "scrolled": true
   },
   "outputs": [
    {
     "name": "stdout",
     "output_type": "stream",
     "text": [
      "8 studies created at /Users/madicken/Documents/test/maze\n"
     ]
    }
   ],
   "source": [
    "C.make_study()"
   ]
  },
  {
   "cell_type": "code",
   "execution_count": 6,
   "metadata": {
    "collapsed": false
   },
   "outputs": [
    {
     "name": "stdout",
     "output_type": "stream",
     "text": [
      "edited runscript file located at: /Users/madicken/Documents/test/maze/newtest_edit_edit.txt\n",
      "lines added to file:\n",
      "cd /Users/madicken/Documents/test/maze/denovo_quad_order_2/ \n",
      " advantg maze2.py \n",
      "\n",
      "cd /Users/madicken/Documents/test/maze/denovo_quad_order_3/ \n",
      " advantg maze2.py \n",
      "\n",
      "cd /Users/madicken/Documents/test/maze/denovo_quad_order_4/ \n",
      " advantg maze2.py \n",
      "\n",
      "cd /Users/madicken/Documents/test/maze/denovo_pn_order_1/ \n",
      " advantg maze2.py \n",
      "\n",
      "cd /Users/madicken/Documents/test/maze/denovo_pn_order_2/ \n",
      " advantg maze2.py \n",
      "\n",
      "cd /Users/madicken/Documents/test/maze/denovo_pn_order_3/ \n",
      " advantg maze2.py \n",
      "\n",
      "cd /Users/madicken/Documents/test/maze/denovo_pn_order_5/ \n",
      " advantg maze2.py \n",
      "\n",
      "cd /Users/madicken/Documents/test/maze/anisn_library_27n19g/ \n",
      " advantg maze2.py \n",
      "\n"
     ]
    }
   ],
   "source": [
    "C.make_submission_script('/Users/madicken/Documents/test/maze/newtest_edit.txt')"
   ]
  },
  {
   "cell_type": "code",
   "execution_count": null,
   "metadata": {
    "collapsed": true
   },
   "outputs": [],
   "source": []
  }
 ],
 "metadata": {
  "kernelspec": {
   "display_name": "Python 2",
   "language": "python",
   "name": "python2"
  },
  "language_info": {
   "codemirror_mode": {
    "name": "ipython",
    "version": 2
   },
   "file_extension": ".py",
   "mimetype": "text/x-python",
   "name": "python",
   "nbconvert_exporter": "python",
   "pygments_lexer": "ipython2",
   "version": "2.7.11"
  }
 },
 "nbformat": 4,
 "nbformat_minor": 0
}
