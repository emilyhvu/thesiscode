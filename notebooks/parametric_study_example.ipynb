{
 "cells": [
  {
   "cell_type": "code",
   "execution_count": 64,
   "metadata": {
    "collapsed": false
   },
   "outputs": [],
   "source": [
    "import os\n",
    "import re\n",
    "\n",
    "class StudyMaker(object):\n",
    "    def __init__(self, filename, xs_libs = [], quad_type = [], \n",
    "                 quad_order = [], pn_order = [], x_blocks = [],\n",
    "                 y_blocks = [], z_blocks = []):\n",
    "        '''\n",
    "        The study maker takes user-defined parameters and modifies an advantg input file \n",
    "        n number of times to include each parameter for a parametric study. \n",
    "        '''\n",
    "        self.filename = filename\n",
    "        self.path = os.path.dirname(os.path.abspath(filename))\n",
    "        self.xs_libs = xs_libs\n",
    "        self.quad_type = quad_type\n",
    "        self.quad_order = quad_order\n",
    "        self.pn_order = pn_order\n",
    "        self.x_blocks = x_blocks\n",
    "        self.y_blocks = y_blocks\n",
    "        self.z_blocks = z_blocks\n",
    "        self.opt_dict ={}\n",
    "        \n",
    "        StudyMaker.filldictionary(self)\n",
    "        \n",
    "        StudyMaker.printopts(self)\n",
    "    \n",
    "    def printopts(self):\n",
    "        print ''\n",
    "        print 'Option Summary'\n",
    "        print ''\n",
    "        print 'advantg file :', os.path.abspath(self.filename)\n",
    "        print 'path :', self.path\n",
    "        print 'xs_libs :', self.xs_libs\n",
    "        print 'quad_types :', self.quad_type\n",
    "        print 'quad_orders :', self.quad_order\n",
    "        print 'pn_orders :', self.pn_order\n",
    "    \n",
    "    def filldictionary(self):\n",
    "        optiondictionary = {}\n",
    "        if self.xs_libs:\n",
    "            name = \"anisn_library\"\n",
    "            optiondictionary[name] = self.xs_libs\n",
    "        if self.quad_type:\n",
    "            name = \"denovo_quadrature\"\n",
    "            optiondictionary[name] = self.quad_type\n",
    "        if self.quad_order:\n",
    "            name = \"denovo_quad_order\"\n",
    "            optiondictionary[name] = self.quad_order\n",
    "        if self.pn_order:\n",
    "            name = \"denovo_pn_order\"\n",
    "            optiondictionary[name] = self.pn_order\n",
    "        if self.x_blocks:\n",
    "            name = \"denovo_x_blocks\"\n",
    "            optiondictionary[name] = self.x_blocks\n",
    "        if self.y_blocks:\n",
    "            name = \"denovo_y_blocks\"\n",
    "            optiondictionary[name] = self.y_blocks\n",
    "        if self.z_blocks:\n",
    "            name = \"denovo_z_blocks\"\n",
    "            optiondictionary[name] = self.z_blocks\n",
    "        self.opt_dict = optiondictionary\n",
    "    \n",
    "    def printdict(self,dictionary):\n",
    "        for item in dictionary:\n",
    "            print item + ':', dictionary[item]\n",
    "    \n",
    "    def changeline(self, item, value, lines):\n",
    "        pattern = re.compile(r\"\\\"%s\\\"\\:*\\s.*\") %item\n",
    "        modified_lines = []\n",
    "        for line in lines:\n",
    "            line = pattern.sub('\"%s\":         \"%s\",', line ) %(item, value)\n",
    "            modified_lines.append(line)\n",
    "        return modified_lines\n",
    "    \n",
    "    def make_study(self):\n",
    "        with open(filename, 'r') as f:\n",
    "        lines = f.readlines()\n",
    "        for item in self.opt_dict:\n",
    "            for value in self.opt_dict[item]:\n",
    "                \n",
    "                with open()\n",
    "                studycase = StudyMaker.changeline(self, item, value, lines)\n",
    "                \n",
    "                \n",
    "        "
   ]
  },
  {
   "cell_type": "code",
   "execution_count": 65,
   "metadata": {
    "collapsed": false
   },
   "outputs": [
    {
     "name": "stdout",
     "output_type": "stream",
     "text": [
      "\n",
      "Option Summary\n",
      "\n",
      "advantg file : /Users/madicken/Repos/thesiscode/test.txt\n",
      "path : /Users/madicken/Repos/thesiscode\n",
      "xs_libs : ['27n19g']\n",
      "quad_types : []\n",
      "quad_orders : [2, 3, 4]\n",
      "pn_orders : [1, 2, 3, 5]\n"
     ]
    }
   ],
   "source": [
    "A = StudyMaker('./test.txt', xs_libs = [\"27n19g\"], quad_order = [2,3,4], pn_order = [1,2,3,5])"
   ]
  },
  {
   "cell_type": "code",
   "execution_count": 63,
   "metadata": {
    "collapsed": false
   },
   "outputs": [
    {
     "name": "stdout",
     "output_type": "stream",
     "text": [
      "denovo_quad_order: [2, 3, 4]\n",
      "denovo_pn_order: [1, 2, 3, 5]\n",
      "anisn_library: 27n19g\n"
     ]
    }
   ],
   "source": [
    "A.printdict(A.opt_dict)"
   ]
  },
  {
   "cell_type": "code",
   "execution_count": 33,
   "metadata": {
    "collapsed": false
   },
   "outputs": [
    {
     "name": "stdout",
     "output_type": "stream",
     "text": [
      "27n19g\n",
      "no quadrature types were specified\n"
     ]
    }
   ],
   "source": [
    "A.checker()"
   ]
  },
  {
   "cell_type": "code",
   "execution_count": 68,
   "metadata": {
    "collapsed": false
   },
   "outputs": [
    {
     "name": "stdout",
     "output_type": "stream",
     "text": [
      "r\"\"anisn_library\"\\:*\\s.*\"\n",
      "r\"\"anisn_library\"\\:*\\s.*\"\n"
     ]
    }
   ],
   "source": [
    "string1 = 'r\"\\\"anisn_library\\\"\\:*\\s.*\"'\n",
    "print string1\n",
    "grp = 'anisn_library'\n",
    "string2 = 'r\"\\\"%s\\\"\\:*\\s.*\"' %grp\n",
    "print string2"
   ]
  },
  {
   "cell_type": "code",
   "execution_count": null,
   "metadata": {
    "collapsed": true
   },
   "outputs": [],
   "source": []
  }
 ],
 "metadata": {
  "kernelspec": {
   "display_name": "Python 2",
   "language": "python",
   "name": "python2"
  },
  "language_info": {
   "codemirror_mode": {
    "name": "ipython",
    "version": 2
   },
   "file_extension": ".py",
   "mimetype": "text/x-python",
   "name": "python",
   "nbconvert_exporter": "python",
   "pygments_lexer": "ipython2",
   "version": "2.7.11"
  }
 },
 "nbformat": 4,
 "nbformat_minor": 0
}
